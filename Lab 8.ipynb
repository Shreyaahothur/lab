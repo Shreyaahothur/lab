{
 "cells": [
  {
   "cell_type": "code",
   "execution_count": 1,
   "id": "e528d7d7",
   "metadata": {},
   "outputs": [],
   "source": [
    "#lab 8\n",
    "import pandas as pd\n",
    "import numpy as ny\n",
    "from sklearn.naive_bayes import GaussianNB\n",
    "from sklearn.model_selection import train_test_split\n",
    "from sklearn.feature_extraction.text import TfidfVectorizer\n",
    "from sklearn.naive_bayes import MultinomialNB\n",
    "from sklearn.metrics import accuracy_score, classification_report\n",
    "from scipy.stats import chi2_contingency\n",
    "\n",
    "df =pd.DataFrame ({\n",
    "    'age': ['<=30', '<=30', '31...40', '>40', '>40', '>40', '31...40', '<=30', '<=30', '>40','<=30','31...40','31...40','>40'],\n",
    "    'income': ['high', 'high', 'high', 'medium', 'low', 'low', 'low', 'medium', 'low', 'medium','medium','medium','high','medium'],\n",
    "    'student': ['no', 'no', 'no', 'no', 'yes', 'yes', 'yes', 'no', 'yes', 'yes','yes','no','yes','no'],\n",
    "    'credit_rating': ['fair', 'excellent', 'fair', 'fair', 'fair', 'excellent', 'excellent', 'fair', 'fair','fair', 'excellent','excellent','fair','excellent'],\n",
    "    'buys_computer': ['no', 'no', 'yes', 'yes', 'yes', 'no', 'yes', 'no', 'yes', 'yes', 'yes', 'yes', 'yes', 'no']\n",
    "})"
   ]
  },
  {
   "cell_type": "code",
   "execution_count": 2,
   "id": "7e14e609",
   "metadata": {},
   "outputs": [
    {
     "name": "stdout",
     "output_type": "stream",
     "text": [
      "Prior Probabilities for Each Class:\n",
      "Class 'yes': 64.29%\n",
      "Class 'no': 35.71%\n"
     ]
    }
   ],
   "source": [
    "# Calculate the prior probability for each class\n",
    "class_counts = df['buys_computer'].value_counts()\n",
    "total_samples = len(df)\n",
    "prior_probabilities = class_counts / total_samples\n",
    "\n",
    "# Print the prior probabilities for each class\n",
    "print(\"Prior Probabilities for Each Class:\")\n",
    "for class_label, prior_prob in prior_probabilities.items():\n",
    "    print(f\"Class '{class_label}': {prior_prob:.2%}\")"
   ]
  },
  {
   "cell_type": "code",
   "execution_count": 3,
   "id": "960d70a4",
   "metadata": {},
   "outputs": [
    {
     "name": "stdout",
     "output_type": "stream",
     "text": [
      "Class conditional density for age = no:\n",
      "<=30    0.6\n",
      ">40     0.4\n",
      "Name: age, dtype: float64\n",
      "\n",
      "Class conditional density for age = yes:\n",
      "31...40    0.444444\n",
      ">40        0.333333\n",
      "<=30       0.222222\n",
      "Name: age, dtype: float64\n",
      "\n",
      "Class conditional density for income = no:\n",
      "high      0.4\n",
      "medium    0.4\n",
      "low       0.2\n",
      "Name: income, dtype: float64\n",
      "\n",
      "Class conditional density for income = yes:\n",
      "medium    0.444444\n",
      "low       0.333333\n",
      "high      0.222222\n",
      "Name: income, dtype: float64\n",
      "\n",
      "Class conditional density for student = no:\n",
      "no     0.8\n",
      "yes    0.2\n",
      "Name: student, dtype: float64\n",
      "\n",
      "Class conditional density for student = yes:\n",
      "yes    0.666667\n",
      "no     0.333333\n",
      "Name: student, dtype: float64\n",
      "\n",
      "Class conditional density for credit_rating = no:\n",
      "excellent    0.6\n",
      "fair         0.4\n",
      "Name: credit_rating, dtype: float64\n",
      "\n",
      "Class conditional density for credit_rating = yes:\n",
      "fair         0.666667\n",
      "excellent    0.333333\n",
      "Name: credit_rating, dtype: float64\n",
      "\n",
      "No class conditional density has zero values.\n"
     ]
    }
   ],
   "source": [
    "# A2) Calculate the class conditional densities for each feature and class\n",
    "class_conditional_densities = {}\n",
    "\n",
    "for feature in df.columns[:-1]:\n",
    "    for class_value in df['buys_computer'].unique():\n",
    "        subset = df[df['buys_computer'] == class_value]\n",
    "        density = subset[feature].value_counts(normalize=True)\n",
    "        class_conditional_densities[(feature, class_value)] = density\n",
    "\n",
    "        # Print the class conditional density\n",
    "        print(f\"Class conditional density for {feature} = {class_value}:\")\n",
    "        print(density)\n",
    "        print()\n",
    "\n",
    "# Check if any class conditional density has zero values\n",
    "zero_values_found = any(\n",
    "    any(value == 0 for value in density.values)\n",
    "    for density in class_conditional_densities.values()\n",
    ")\n",
    "\n",
    "if zero_values_found:\n",
    "    print(\"Some class conditional densities have zero values.\")\n",
    "else:\n",
    "    print(\"No class conditional density has zero values.\")\n"
   ]
  },
  {
   "cell_type": "code",
   "execution_count": 7,
   "id": "41a51651",
   "metadata": {
    "scrolled": true
   },
   "outputs": [
    {
     "name": "stdout",
     "output_type": "stream",
     "text": [
      "\n",
      "Test for independence between age and buys_computer:\n",
      "P-value: 0.170\n",
      "\n",
      "Test for independence between income and buys_computer:\n",
      "P-value: 0.752\n",
      "\n",
      "Test for independence between student and buys_computer:\n",
      "P-value: 0.265\n",
      "\n",
      "Test for independence between credit_rating and buys_computer:\n",
      "P-value: 0.687\n"
     ]
    }
   ],
   "source": [
    "from scipy.stats import chi2_contingency\n",
    "\n",
    "# a3) Test for independence between each feature and the class\n",
    "for feature in df.columns[:-1]:\n",
    "    # Create a contingency table\n",
    "    contingency_table = pd.crosstab(df[feature], df['buys_computer'])\n",
    "\n",
    "    # Perform a chi-squared test\n",
    "    chi2_statistic, p_value, degrees_of_freedom, expected_counts = chi2_contingency(contingency_table)\n",
    "\n",
    "    # Print the results\n",
    "    print(f\"\\nTest for independence between {feature} and buys_computer:\")\n",
    "   \n",
    "    print(f\"P-value: {p_value:.3f}\")\n",
    "\n",
    "\n"
   ]
  },
  {
   "cell_type": "code",
   "execution_count": 8,
   "id": "0c172659",
   "metadata": {},
   "outputs": [
    {
     "data": {
      "text/plain": [
       "GaussianNB()"
      ]
     },
     "execution_count": 8,
     "metadata": {},
     "output_type": "execute_result"
    }
   ],
   "source": [
    "#A4)\n",
    "X = df.drop('buys_computer', axis=1)\n",
    "y = df['buys_computer']\n",
    "\n",
    "# Assuming you have categorical data and need to convert it to numerical values\n",
    "X = pd.get_dummies(X)\n",
    "\n",
    "# Initialize the Naive Bayes classifier\n",
    "nb_classifier = GaussianNB()\n",
    "\n",
    "# Train the classifier\n",
    "nb_classifier.fit(X, y)"
   ]
  },
  {
   "cell_type": "code",
   "execution_count": null,
   "id": "db54ec46",
   "metadata": {},
   "outputs": [],
   "source": []
  }
 ],
 "metadata": {
  "kernelspec": {
   "display_name": "Python 3 (ipykernel)",
   "language": "python",
   "name": "python3"
  },
  "language_info": {
   "codemirror_mode": {
    "name": "ipython",
    "version": 3
   },
   "file_extension": ".py",
   "mimetype": "text/x-python",
   "name": "python",
   "nbconvert_exporter": "python",
   "pygments_lexer": "ipython3",
   "version": "3.9.13"
  }
 },
 "nbformat": 4,
 "nbformat_minor": 5
}
