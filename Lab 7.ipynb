{
 "cells": [
  {
   "cell_type": "code",
   "execution_count": 21,
   "id": "b4f49cce",
   "metadata": {},
   "outputs": [],
   "source": [
    "#lab 7\n",
    "import numpy as np\n",
    "import pandas as pd\n",
    "\n",
    "# Load the data\n",
    "data =pd.read_csv(\"C:\\\\Users\\\\Shreyaa Hothur\\\\OneDrive\\\\Desktop\\\\5th Sem\\\\ML\\\\Project\\\\combined_features (1).csv\")\n",
    "del data['Image_Name.1']\n",
    "del data['Image_Name.2']\n",
    "del data['Image_Name.3']\n",
    "\n"
   ]
  },
  {
   "cell_type": "code",
   "execution_count": 22,
   "id": "d05a5326",
   "metadata": {},
   "outputs": [],
   "source": [
    "from sklearn.preprocessing import LabelEncoder\n",
    "\n",
    "label_encoder = LabelEncoder()\n",
    "\n",
    "# Assuming 'categorical_feature' is the column with non-numeric data\n",
    "data['Curvature_Moments'] = label_encoder.fit_transform(data['Curvature_Moments'])\n",
    "data['Curvature_Histogram'] = label_encoder.fit_transform(data['Curvature_Histogram'])\n"
   ]
  },
  {
   "cell_type": "code",
   "execution_count": 23,
   "id": "e2803ef2",
   "metadata": {},
   "outputs": [],
   "source": [
    "from sklearn.preprocessing import LabelEncoder\n",
    "\n",
    "label_encoder = LabelEncoder()\n",
    "\n",
    "# Assuming 'mage_Name' is the column with non-numeric data\n",
    "data['Image_Name'] = label_encoder.fit_transform(data['Image_Name'])"
   ]
  },
  {
   "cell_type": "code",
   "execution_count": 24,
   "id": "4cedc12e",
   "metadata": {},
   "outputs": [],
   "source": [
    "# Assuming 'y_train' is the target variable with categorical labels\n",
    "y_train = label_encoder.fit_transform(y_train)\n"
   ]
  },
  {
   "cell_type": "code",
   "execution_count": 26,
   "id": "428fda8a",
   "metadata": {
    "scrolled": false
   },
   "outputs": [
    {
     "name": "stdout",
     "output_type": "stream",
     "text": [
      "Support Vectors:\n",
      "[[0.00000000e+00 0.00000000e+00 0.00000000e+00 ... 1.00000000e+00\n",
      "  1.00000000e+00 0.00000000e+00]\n",
      " [8.24733333e+03 9.00000000e+01 4.97699475e-01 ... 1.00000000e+00\n",
      "  1.00000000e+00 0.00000000e+00]\n",
      " [9.71750000e+03 4.50000000e+01 5.35576371e-01 ... 1.00000000e+00\n",
      "  1.00000000e+00 0.00000000e+00]\n",
      " ...\n",
      " [7.02000000e+03 9.00000000e+01 5.26598975e-01 ... 1.00000000e+00\n",
      "  1.00000000e+00 0.00000000e+00]\n",
      " [4.55733333e+03 3.00000000e+01 5.84327646e-01 ... 1.00000000e+00\n",
      "  1.00000000e+00 0.00000000e+00]\n",
      " [5.89433333e+03 9.00000000e+01 5.92694868e-01 ... 1.00000000e+00\n",
      "  1.00000000e+00 0.00000000e+00]]\n",
      "Number of support vectors for each class: [36 37 38 ... 40 39 38]\n"
     ]
    }
   ],
   "source": [
    "import numpy as np\n",
    "from sklearn import svm\n",
    "from sklearn.model_selection import train_test_split\n",
    "X_train, X_test, y_train, y_test = train_test_split(X, y, test_size=0.2, random_state=42)\n",
    "# Preprocess the data\n",
    "X = data.drop(columns=['Image_Name'])\n",
    "y = data['Image_Name']\n",
    "\n",
    "# Convert the data to NumPy arrays\n",
    "X = X.to_numpy()\n",
    "y = y.to_numpy()\n",
    "# Create an instance of the SVM classifier\n",
    "clf = svm.SVC()\n",
    "\n",
    "# Train the SVM model with the training data\n",
    "clf.fit(X_train, y_train)\n",
    "\n",
    "# Get the support vectors\n",
    "support_vectors = clf.support_vectors_\n",
    "\n",
    "# Number of support vectors for each class\n",
    "n_support_vectors = clf.n_support_\n",
    "\n",
    "print(\"Support Vectors:\")\n",
    "print(support_vectors)\n",
    "print(\"Number of support vectors for each class:\", n_support_vectors)\n"
   ]
  },
  {
   "cell_type": "code",
   "execution_count": 27,
   "id": "1a42d94b",
   "metadata": {},
   "outputs": [
    {
     "name": "stdout",
     "output_type": "stream",
     "text": [
      "Accuracy: 0.0018404907975460123\n"
     ]
    }
   ],
   "source": [
    "accuracy = clf.score(X_test, y_test)\n",
    "print(\"Accuracy:\", accuracy)\n"
   ]
  },
  {
   "cell_type": "code",
   "execution_count": 28,
   "id": "0f93b716",
   "metadata": {},
   "outputs": [],
   "source": [
    "y_pred = clf.predict(X_test)\n"
   ]
  },
  {
   "cell_type": "code",
   "execution_count": null,
   "id": "44e529c4",
   "metadata": {},
   "outputs": [],
   "source": [
    "clf_linear = svm.SVC(kernel='linear')\n",
    "clf_linear.fit(X_train, y_train)\n",
    "accuracy_linear = clf_linear.score(X_test, y_test)\n",
    "print(\"Accuracy (Linear Kernel):\", accuracy_linear)\n"
   ]
  },
  {
   "cell_type": "code",
   "execution_count": null,
   "id": "6e54031d",
   "metadata": {},
   "outputs": [],
   "source": [
    "clf_poly = svm.SVC(kernel='poly')\n",
    "clf_poly.fit(X_train, y_train)\n",
    "accuracy_poly = clf_poly.score(X_test, y_test)\n",
    "print(\"Accuracy (Polynomial Kernel):\", accuracy_poly)\n"
   ]
  },
  {
   "cell_type": "code",
   "execution_count": null,
   "id": "2ab53e28",
   "metadata": {},
   "outputs": [],
   "source": [
    "clf_rbf = svm.SVC(kernel='rbf')\n",
    "clf_rbf.fit(X_train, y_train)\n",
    "accuracy_rbf = clf_rbf.score(X_test, y_test)\n",
    "print(\"Accuracy (RBF Kernel):\", accuracy_rbf)\n"
   ]
  },
  {
   "cell_type": "code",
   "execution_count": null,
   "id": "11f9c7d5",
   "metadata": {},
   "outputs": [],
   "source": [
    "clf_sigmoid = svm.SVC(kernel='sigmoid')\n",
    "clf_sigmoid.fit(X_train, y_train)\n",
    "accuracy_sigmoid = clf_sigmoid.score(X_test, y_test)\n",
    "print(\"Accuracy (Sigmoid Kernel):\", accuracy_sigmoid)\n"
   ]
  }
 ],
 "metadata": {
  "kernelspec": {
   "display_name": "Python 3 (ipykernel)",
   "language": "python",
   "name": "python3"
  },
  "language_info": {
   "codemirror_mode": {
    "name": "ipython",
    "version": 3
   },
   "file_extension": ".py",
   "mimetype": "text/x-python",
   "name": "python",
   "nbconvert_exporter": "python",
   "pygments_lexer": "ipython3",
   "version": "3.9.13"
  }
 },
 "nbformat": 4,
 "nbformat_minor": 5
}
